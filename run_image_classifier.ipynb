{
 "cells": [
  {
   "cell_type": "code",
   "execution_count": null,
   "id": "9bd219f3",
   "metadata": {},
   "outputs": [],
   "source": [
    "import streamlit"
   ]
  },
  {
   "cell_type": "code",
   "execution_count": null,
   "id": "199ccc9e",
   "metadata": {},
   "outputs": [],
   "source": [
    "%pip freeze > requirements.txt"
   ]
  },
  {
   "cell_type": "code",
   "execution_count": null,
   "id": "d6644744",
   "metadata": {},
   "outputs": [],
   "source": [
    "!streamlit run app.py --server.headless true"
   ]
  }
 ],
 "metadata": {
  "language_info": {
   "name": "python"
  }
 },
 "nbformat": 4,
 "nbformat_minor": 5
}
